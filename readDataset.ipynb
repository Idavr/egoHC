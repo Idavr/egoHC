{
 "cells": [
  {
   "cell_type": "markdown",
   "metadata": {},
   "source": [
    "This script can be used to interpret .mat files for a single animal."
   ]
  },
  {
   "cell_type": "code",
   "execution_count": 1,
   "metadata": {},
   "outputs": [],
   "source": [
    "# import libraries\n",
    "import scipy.io as sio\n",
    "import numpy as np"
   ]
  },
  {
   "cell_type": "code",
   "execution_count": 8,
   "metadata": {},
   "outputs": [],
   "source": [
    "# load dataset for animal 24116\n",
    "fileLoc = \"D:\\\\Data\\\\Dataset\\\\24116.mat\" # insert your file location here\n",
    "matfile = sio.loadmat(fileLoc) # read in .mat file as dictionary\n",
    "\n",
    "# parse matfile\n",
    "accel = matfile[\"accel\"][0]\n",
    "behaviour = matfile[\"behaviour\"][0]\n",
    "hd = matfile[\"hd\"][0]\n",
    "pos = matfile[\"pos\"][0]\n",
    "rawEEG = matfile[\"rawEEG\"][0]\n",
    "sessInfo = matfile[\"sessInfo\"][0]\n",
    "speed = matfile[\"speed\"][0]\n",
    "SpikeTimes = matfile[\"SpikeTimes\"][0]\n",
    "SpikeTrain = matfile[\"SpikeTrain\"][0]\n",
    "trialType = matfile[\"trialType\"][0]\n",
    "UniqueID = matfile[\"UniqueID\"][0]\n",
    "\n",
    "# Manually define home-well locations for each session (I'll incorporate this into the dataset later)\n",
    "hwLoc = [37, 37, 37, 37, 37, 37, 37, 37, 37, 37, 37, 37, 37, 37, 37, 37, 37,\n",
    "         37, 37, 37, 36, 37, 36, 36, 36, 36, 37, 37, 37, 36, 36, 37, 37, 37, 37, 37, 37, 37, 37]"
   ]
  },
  {
   "cell_type": "code",
   "execution_count": 232,
   "metadata": {},
   "outputs": [],
   "source": [
    "class dataset:\n",
    "    \n",
    "    def __init__(self, animalID, accel, behaviour, hd, pos, rawEEG, sessInfo, speed, SpikeTimes, SpikeTrain, trialType, UniqueID, hwLoc):\n",
    "        self.animalID = animalID\n",
    "        self.accel = accel\n",
    "        self.behaviour = behaviour\n",
    "        self.hd = hd\n",
    "        self.pos = pos\n",
    "        self.rawEEG = rawEEG\n",
    "        self.sessInfo = sessInfo\n",
    "        self.speed = speed\n",
    "        self.SpikeTimes = SpikeTimes\n",
    "        self.SpikeTrain = SpikeTrain\n",
    "        self.trialType = trialType\n",
    "        self.UniqueID = UniqueID\n",
    "        self.hwLoc = hwLoc\n",
    "\n",
    "    def getAccel(self, sessNum=0):\n",
    "        return self.accel[sessNum]\n",
    "\n",
    "    def getBehaviour(self, sessNum=0):\n",
    "        return self.behaviour[sessNum][0]\n",
    "    \n",
    "    def getHD(self, sessNum=0):\n",
    "        return self.hd[sessNum]\n",
    "    \n",
    "    def getPos(self, sessNum=0):\n",
    "        return self.pos[sessNum]\n",
    "    \n",
    "    def getRawEEG(self, sessNum=0, chan=0):\n",
    "        return self.rawEEG[sessNum][0][chan]\n",
    "    \n",
    "    def getSessInfo(self, sessNum=0, cat='minX'):\n",
    "        switcher={\n",
    "                'winMinX':float(matfile[\"sessInfo\"][0][sessNum][0][\"window_min_x\"][0][0][0][0]),\n",
    "                'winMaxX':float(matfile[\"sessInfo\"][0][sessNum][0][\"window_max_x\"][0][0][0][0]),\n",
    "                'winMinY':float(matfile[\"sessInfo\"][0][sessNum][0][\"window_min_y\"][0][0][0][0]),\n",
    "                'winMaxY':float(matfile[\"sessInfo\"][0][sessNum][0][\"window_max_y\"][0][0][0][0]),\n",
    "                'minX':float(matfile[\"sessInfo\"][0][sessNum][0][\"min_x\"][0][0][0][0]),\n",
    "                'maxX':float(matfile[\"sessInfo\"][0][sessNum][0][\"max_x\"][0][0][0][0]),\n",
    "                'minY':float(matfile[\"sessInfo\"][0][sessNum][0][\"min_y\"][0][0][0][0]),\n",
    "                'maxY':float(matfile[\"sessInfo\"][0][sessNum][0][\"max_y\"][0][0][0][0]),\n",
    "                'trial_time':matfile[\"sessInfo\"][0][sessNum][0][\"trial_time\"][0][0][0][0],\n",
    "                'trial_date':matfile[\"sessInfo\"][0][sessNum][0][\"trial_date\"][0][0][0][0],\n",
    "                'duration':float(matfile[\"sessInfo\"][0][sessNum][0][\"duration\"][0][0][0][0]),\n",
    "                'num_pos_samples':float(matfile[\"sessInfo\"][0][sessNum][0][\"num_pos_samples\"][0][0][0][0]),\n",
    "                'pixels_per_metre':float(matfile[\"sessInfo\"][0][sessNum][0][\"pixels_per_metre\"][0][0][0][0]),\n",
    "                'bytes_per_coord':int(matfile[\"sessInfo\"][0][sessNum][0][\"bytes_per_coord\"][0][0][0][0]),\n",
    "                'bytesPerTS':int(matfile[\"sessInfo\"][0][sessNum][0][\"bytesPerTS\"][0][0][0][0]),\n",
    "                'sampleRate':matfile[\"sessInfo\"][0][sessNum][0][\"sampleRate\"][0][0][0][0], \n",
    "                'EEGsamplesPerPos':int(matfile[\"sessInfo\"][0][sessNum][0][\"EEGsamplesPerPos\"][0][0][0][0]),\n",
    "        }\n",
    "        return switcher.get(\n",
    "            cat,\"Invalid category input. Valid inputs include: 'winMinX', 'winMaxX', 'winMinY', 'winMaxY',\\\n",
    "            'minX', 'maxX', 'minY', 'maxY', 'trial_time', 'trial_date', 'duration', 'num_pos_samples', \\\n",
    "            'pixels_per_metre', 'bytes_per_coord', 'bytesPerTS', 'sampleRate', 'EEGsamplesPerPos'\")\n",
    "\n",
    "    def getSpeed(self, sessNum=0):\n",
    "        return self.speed[sessNum]\n",
    "    \n",
    "    def getSpikeTimes(self, sessNum=0, unitNum=0):\n",
    "        return self.SpikeTrain[sessNum][0][unitNum][0]\n",
    "    \n",
    "    def getSpikeTrain(self, sessNum=0, unitNum=0):\n",
    "        return self.SpikeTrain[sessNum][0][unitNum][0]\n",
    "    \n",
    "    def getTrialType(self, sessNum=0):\n",
    "        return self.trialType[sessNum][0]\n",
    "    \n",
    "    def getUID(self, sessNum=0, unitNum=0):\n",
    "        return self.UniqueID[sessNum][0][unitNum][0][0]\n",
    "\n",
    "    def getHwLoc(self, sessNum=0):\n",
    "        return self.hwLoc[sessNum]"
   ]
  },
  {
   "cell_type": "code",
   "execution_count": 233,
   "metadata": {},
   "outputs": [],
   "source": [
    "# create instance for animal 24116\n",
    "A24116 = dataset('24116', accel, behaviour, hd, pos, rawEEG, sessInfo, speed, SpikeTimes, SpikeTrain, trialType, UniqueID, hwLoc)"
   ]
  },
  {
   "cell_type": "code",
   "execution_count": 239,
   "metadata": {},
   "outputs": [
    {
     "name": "stdout",
     "output_type": "stream",
     "text": [
      "[0 0 0 ... 0 0 0]\n"
     ]
    }
   ],
   "source": [
    "# example: get spike times for session 25, unit 0.\n",
    "spikesNow = A24116.getSpikeTimes(sessNum=25, unitNum=0)\n",
    "print(spikesNow)"
   ]
  },
  {
   "cell_type": "code",
   "execution_count": 241,
   "metadata": {},
   "outputs": [
    {
     "data": {
      "text/plain": [
       "'Tuesday, 3 Apr 2018'"
      ]
     },
     "execution_count": 241,
     "metadata": {},
     "output_type": "execute_result"
    }
   ],
   "source": [
    "# example: get trial date for session 10\n",
    "dateNow = A24116.getSessInfo(sessNum=0, cat='trial_date')\n",
    "dateNow"
   ]
  }
 ],
 "metadata": {
  "kernelspec": {
   "display_name": "Python 3",
   "language": "python",
   "name": "python3"
  },
  "language_info": {
   "codemirror_mode": {
    "name": "ipython",
    "version": 3
   },
   "file_extension": ".py",
   "mimetype": "text/x-python",
   "name": "python",
   "nbconvert_exporter": "python",
   "pygments_lexer": "ipython3",
   "version": "3.7.3"
  }
 },
 "nbformat": 4,
 "nbformat_minor": 4
}
