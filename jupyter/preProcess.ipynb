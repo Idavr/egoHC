{
 "cells": [
  {
   "cell_type": "markdown",
   "metadata": {},
   "source": [
    "### Pre-process position data\n",
    "J. Carpenter 2020"
   ]
  },
  {
   "cell_type": "code",
   "execution_count": 6,
   "metadata": {},
   "outputs": [],
   "source": [
    "# libraries\n",
    "import scipy.io as sio\n",
    "import numpy as np"
   ]
  },
  {
   "cell_type": "code",
   "execution_count": 4,
   "metadata": {},
   "outputs": [
    {
     "name": "stderr",
     "output_type": "stream",
     "text": [
      "C:\\Users\\17145\\Anaconda3\\lib\\site-packages\\scipy\\io\\matlab\\mio.py:224: MatReadWarning: Duplicate variable name \"None\" in stream - replacing previous with new\n",
      "Consider mio5.varmats_from_mat to split file into single variable files\n",
      "  matfile_dict = MR.get_variables(variable_names)\n"
     ]
    }
   ],
   "source": [
    "# load dataset for animal 24116\n",
    "fileLoc = \"D:\\\\Data\\\\Dataset\\\\24116_2.mat\" # insert your file location here\n",
    "matfile = sio.loadmat(fileLoc) # read in .mat file as dictionary\n",
    "\n",
    "# parse matfile\n",
    "accel = matfile[\"accel\"][0]\n",
    "behaviour = matfile[\"behaviour\"][0]\n",
    "hd = matfile[\"hd\"][0]\n",
    "pos = matfile[\"pos_cm\"][0]\n",
    "rawEEG = matfile[\"rawEEG\"][0]\n",
    "sessInfo = matfile[\"sessInfo\"][0]\n",
    "speed = matfile[\"speed\"][0]\n",
    "SpikeTimes = matfile[\"SpikeTimes\"][0]\n",
    "SpikeTrain = matfile[\"SpikeTrain\"][0]\n",
    "trialType = matfile[\"trialType\"][0]\n",
    "UniqueID = matfile[\"UniqueID\"][0]\n",
    "\n",
    "# Manually define home-well locations for each session (I'll incorporate this into the dataset later)\n",
    "hwLoc = [37, 37, 37, 37, 37, 37, 37, 37, 37, 37, 37, 37, 37, 37, 37, 37, 37,\n",
    "         37, 37, 37, 36, 37, 36, 36, 36, 36, 37, 37, 37, 36, 36, 37, 37, 37, 37, 37, 37, 37, 37]"
   ]
  },
  {
   "cell_type": "code",
   "execution_count": 5,
   "metadata": {},
   "outputs": [],
   "source": [
    "# preprocess the position data- remove outliers\n",
    "def remove_outliers_LED(pos, matfile, sessNum=0):\n",
    "    # remove outliers and convert to cm\n",
    "    conversionFactor = 2.6\n",
    "    minX = float(matfile[\"sessInfo\"][0][sessNum][0][\"window_min_x\"][0][0][0][0])\n",
    "    minY = float(matfile[\"sessInfo\"][0][sessNum][0][\"window_min_y\"][0][0][0][0])\n",
    "\n",
    "    pos_ = np.zeros([len(pos[sessNum][:,0]), 5])\n",
    "    pos_[:,0] = pos[sessNum][:,0]\n",
    "    pos_[:,1] = (pos[sessNum][:,1]- minX)/conversionFactor\n",
    "    pos_[:,2] = (pos[sessNum][:,2]- minY)/conversionFactor\n",
    "    pos_[:,3] = (pos[sessNum][:,3]- minX)/conversionFactor\n",
    "    pos_[:,4] = (pos[sessNum][:,4]- minY)/conversionFactor\n",
    "\n",
    "    # remove outliers\n",
    "    x = pos_[:,1]; y = pos_[:,2]\n",
    "    x2 = pos_[:,3]; y2 = pos_[:,4]\n",
    "\n",
    "    d = np.zeros([len(x)])\n",
    "    x_prime = np.zeros([len(x)]); y_prime = np.zeros([len(x)])\n",
    "    x2_prime = np.zeros([len(x)]); y2_prime = np.zeros([len(x)])\n",
    "    corrPos =  np.zeros([len(x), 5]);\n",
    "\n",
    "    for idx,val in enumerate(x):\n",
    "        if idx < len(x)-1:\n",
    "            d[idx] = np.sqrt((x[idx+1] - x[idx])**2 + (y[idx+1] - y[idx])**2)\n",
    "            if d[idx] < 2:\n",
    "                x_prime[idx:idx+1] = x[idx:idx+1]; y_prime[idx:idx+1] = y[idx:idx+1];\n",
    "                x2_prime[idx:idx+1] = x2[idx:idx+1]; y2_prime[idx:idx+1] = y2[idx:idx+1];\n",
    "\n",
    "            else:\n",
    "                x_prime[idx:idx+1] = np.nan; y_prime[idx:idx+1] = np.nan;\n",
    "                x2_prime[idx:idx+1] = np.nan; y2_prime[idx:idx+1] = np.nan;\n",
    "\n",
    "    corrPos[:,0]=pos_[:,0]; \n",
    "    corrPos[:,1]=x_prime + np.absolute(np.nanmin(x_prime)); corrPos[:,2]=y_prime + np.absolute(np.nanmin(y_prime));\n",
    "    corrPos[:,3]=x2_prime + np.absolute(np.nanmin(x2_prime)); corrPos[:,4]=y2_prime + np.absolute(np.nanmin(y2_prime))\n",
    "\n",
    "    return corrPos\n",
    "\n",
    "# run for all sessions\n",
    "pos_outliers_removed = {} # create dictionary\n",
    "for ii in range(0,len(pos)):\n",
    "    corrPos = remove_outliers_LED(pos, matfile, sessNum=ii)\n",
    "    pos_outliers_removed[ii] = corrPos"
   ]
  }
 ],
 "metadata": {
  "kernelspec": {
   "display_name": "Python 3",
   "language": "python",
   "name": "python3"
  },
  "language_info": {
   "codemirror_mode": {
    "name": "ipython",
    "version": 3
   },
   "file_extension": ".py",
   "mimetype": "text/x-python",
   "name": "python",
   "nbconvert_exporter": "python",
   "pygments_lexer": "ipython3",
   "version": "3.6.10"
  }
 },
 "nbformat": 4,
 "nbformat_minor": 4
}
