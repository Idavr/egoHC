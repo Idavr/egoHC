{
 "cells": [
  {
   "cell_type": "markdown",
   "metadata": {},
   "source": [
    "### Visualizing Behavior\n",
    "\n",
    "#### J. Carpenter 2020"
   ]
  },
  {
   "cell_type": "markdown",
   "metadata": {},
   "source": [
    "### Load data:"
   ]
  },
  {
   "cell_type": "code",
   "execution_count": 25,
   "metadata": {},
   "outputs": [],
   "source": [
    "# import libraries\n",
    "import scipy.io as sio\n",
    "import numpy as np\n",
    "import matplotlib.pyplot as plt\n",
    "import plotly.express as px\n",
    "import pandas as pd"
   ]
  },
  {
   "cell_type": "code",
   "execution_count": 26,
   "metadata": {},
   "outputs": [],
   "source": [
    "# Load dataset\n",
    "fileLoc = \"D:\\\\Data\\\\Dataset\\\\24116.mat\"\n",
    "matfile = sio.loadmat(fileLoc) # load .mat file"
   ]
  },
  {
   "cell_type": "markdown",
   "metadata": {},
   "source": [
    "### Define functions:"
   ]
  },
  {
   "cell_type": "code",
   "execution_count": 27,
   "metadata": {},
   "outputs": [],
   "source": [
    "def smooth(data, sigma, **kwargs):\n",
    "    \n",
    "    # credit: Simon Ball, Moser Group (2020)\n",
    "    \n",
    "    d = data.ndim\n",
    "    \n",
    "    if  d == 2:\n",
    "        kernel = Gaussian2DKernel(x_stddev = sigma)\n",
    "    elif d == 1:\n",
    "        kernel = Gaussian1DKernel(stddev = sigma)\n",
    "    else:\n",
    "        raise NotImplementedError(\"This function currently supports smoothing\"\\\n",
    "                f\" 1D, 2D data. You have provided {d} dimensional data\")\n",
    "\n",
    "    mask_fill = 0 # Replacement value for masked values when smoothing. Use np.nan to interpolate through masked values instead of use fixed value\n",
    "\n",
    "    mask_fill = kwargs.get('mask_fill', mask_fill)\n",
    "    circular = kwargs.get(\"circular\", False)\n",
    "    if not isinstance(circular, bool):\n",
    "        raise ValueError(\"You must provide a boolean (True/False) value for\"\\\n",
    "                         f\" keyword 'circular'. You provided {circular}, which\"\\\n",
    "                         f\" is type {type(circular)}\")\n",
    "\n",
    "    working_data = data.copy()\n",
    "    if type(data) == np.ma.MaskedArray:\n",
    "        working_data[data.mask] = mask_fill\n",
    "\n",
    "    width = int(4*sigma)\n",
    "\n",
    "    if circular:\n",
    "        smoothed_data = convolve(working_data, kernel, boundary = \"wrap\")\n",
    "        # Don't bother with padding. Use the values from the other end of the \n",
    "        # array, i.e. imagine the array wrapped around a cylinder\n",
    "    elif not circular:\n",
    "        working_data = np.pad(working_data, pad_width = width, mode = 'symmetric')\n",
    "        # pad the outer boundary to depth \"width\n",
    "        # The padding values are based on reflecting at the border\n",
    "        # mode='symmetrical' results in\n",
    "        # [0, 1, 2, 3, 4] -> [1,0  ,0,1,2,3,4,  4,3]\n",
    "        # mode='reflect' results in\n",
    "        # [0, 1, 2, 3, 4] -> [2,1  ,0,1,2,3,4,  3,2]\n",
    "        # i.e. changing whether the reflection axis is outside the original data\n",
    "        # or overlaid on the outermost row\n",
    "    \n",
    "        smoothed_data = convolve(working_data, kernel, boundary = 'extend')\n",
    "        # Because of the padding, the boundary mode isn't really relevant\n",
    "        # By choosing a large width, the edge effects arising from this additional\n",
    "        # padding (boundary='extend') is minimised\n",
    "    \n",
    "        if d == 2:\n",
    "            smoothed_data = smoothed_data[width:-width, width:-width]\n",
    "        elif d == 1:\n",
    "            smoothed_data = smoothed_data[width:-width]\n",
    "        else: # This condition should never happen, due to checking above\n",
    "            raise NotImplementedError(\"This function currently supports smoothing\"\\\n",
    "                    f\" 1D, 2D data. You have provided {d} dimensional data\")\n",
    "        # We have to get rid of the padding that we previously added, and the only\n",
    "        # way to do that is slicing, which is NOT dimensional-agnostic\n",
    "        # There may be a more elegant solution than if/else, but this will do now\n",
    "\n",
    "    if type(data) == np.ma.MaskedArray:\n",
    "        smoothed_data = np.ma.masked_where(data.mask, smoothed_data)\n",
    "        smoothed_data.data[data.mask] = data.data[data.mask]\n",
    "\n",
    "    return smoothed_data"
   ]
  },
  {
   "cell_type": "code",
   "execution_count": 28,
   "metadata": {},
   "outputs": [],
   "source": [
    "def makeDF(matfile, sessNum, unitNum):\n",
    "    # make dataframe to pass through plotly for one session\n",
    "    # this may be too computationally heavy\n",
    "    \n",
    "    pos = matfile[\"pos\"][0] # time & LEDs\n",
    "    time = pos[sessNum][:,0]\n",
    "    led1A = pos[sessNum][:,1]; led1B = pos[sessNum][:,2];\n",
    "    led2A = pos[sessNum][:,3]; led2B = pos[sessNum][:,4];\n",
    "      \n",
    "    SpikeTrain = matfile[\"SpikeTrain\"][0][sessNum][0]    \n",
    "    if np.size(SpikeTrain) > 0: \n",
    "        SpikeTrainUnit = SpikeTrain[unitNum][0]\n",
    "        d = {'time': time, 'led1A': led1A , 'led1B': led1B, 'led2A': led2A, 'led2B': led2B, 'spikes:': SpikeTrainUnit}\n",
    "    else:\n",
    "        d = {'time': time, 'led1A': led1A , 'led1B': led1B, 'led2A': led2A, 'led2B': led2B}\n",
    "    df = pd.DataFrame(data=d)\n",
    "    \n",
    "    return df"
   ]
  },
  {
   "cell_type": "code",
   "execution_count": 29,
   "metadata": {},
   "outputs": [],
   "source": [
    "# def makeAnimation(df):\n",
    "#     px.scatter(df, x=\"led1A\", y=\"led1B\", animation_frame=\"time\")"
   ]
  },
  {
   "cell_type": "code",
   "execution_count": 30,
   "metadata": {},
   "outputs": [],
   "source": [
    "def getUnitData(matfile, sessNum, unitNum):\n",
    "    \n",
    "    \"\"\"\n",
    "    The following data will be loaded (via scipy.io):\n",
    "    \n",
    "        'SpikeTrain':    Sx1 array, where S is the number of sessions for the animal. \n",
    "                         Each session (S) contains a Nx1 vector, where N is the number of \n",
    "                         neurons (units) recorded in a given session.\n",
    "                      \n",
    "        'pos':           Sx1 array containing information about time and the positions of 2 LEDs.\n",
    "        \n",
    "        'UniqueID':      Sx1 array, where each array contains an Nx1 vector. Each element is a \n",
    "                         string value, containing the unique cell ID for the given unit.\n",
    "        \n",
    "        'trialType':    Sx1 array, containing a string value of session type (FM or OF, for\n",
    "                        'Foster Maze' or 'Open Field', respectively. 'TS' might also be present,\n",
    "                         which stands for 'Training Session'.\n",
    "                         \n",
    "    Outputs:\n",
    "    \n",
    "        'time':         tx1 array, where t is the number of timestamps for the session.\n",
    "    \"\"\"\n",
    "    \n",
    "        \n",
    "    # pull out relevant arrays\n",
    "    SpikeTrain = matfile[\"SpikeTrain\"][0]\n",
    "    pos = matfile[\"pos\"][0] # time & LEDs\n",
    "    UniqueID = matfile[\"UniqueID\"][0]\n",
    "    trialType = matfile[\"trialType\"][0]\n",
    "    \n",
    "    \n",
    "    # trial type, spike train, unique ID #\n",
    "    spikesNow = SpikeTrain[sessNum][0][unitNum][0]\n",
    "    trialNow = str(trialType[sessNum][0])\n",
    "    idNow = str(UniqueID[sessNum][0][unitNum][0][0])\n",
    "    info = [idNow, sessNum, trialNow]\n",
    "    \n",
    "    # get window maximums and minumums\n",
    "    minX = float(matfile[\"sessInfo\"][0][sessNum][0][\"window_min_x\"][0][0][0][0])\n",
    "    maxX = float(matfile[\"sessInfo\"][0][sessNum][0][\"window_max_x\"][0][0][0][0])\n",
    "    minY = float(matfile[\"sessInfo\"][0][sessNum][0][\"window_min_y\"][0][0][0][0])\n",
    "    maxY = float(matfile[\"sessInfo\"][0][sessNum][0][\"window_max_y\"][0][0][0][0])\n",
    "    window = np.array([minX, maxX, minY, maxY])\n",
    "    \n",
    "    return window, spikesNow, info"
   ]
  },
  {
   "cell_type": "code",
   "execution_count": 31,
   "metadata": {},
   "outputs": [],
   "source": [
    "def getTimePt(matfile, sessNum, timePoint):\n",
    "    \n",
    "    # parse position vector\n",
    "    pos = matfile[\"pos\"][0]\n",
    "    time = pos[sessNum][:,0][timePoint];\n",
    "    led1A = pos[sessNum][:,1][timePoint]; led1B = pos[sessNum][:,2][timePoint];\n",
    "    led2A = pos[sessNum][:,3][timePoint]; led2B = pos[sessNum][:,4][timePoint];\n",
    "    led = np.array([time, led1A, led1B, led2A, led2B])\n",
    "    \n",
    "    return time, led"
   ]
  },
  {
   "cell_type": "code",
   "execution_count": 32,
   "metadata": {},
   "outputs": [],
   "source": [
    "def plotBehavior(led, window, info):\n",
    "    \"\"\"\n",
    "    plots behavior for a single timepoint.\n",
    "    \"\"\"\n",
    "    \n",
    "    # parse window vector\n",
    "    minX = window[0]; maxX = window[1]; minY = window[2]; maxY = window[3]\n",
    "    \n",
    "    # parse led vector\n",
    "    time = led[0]\n",
    "    L1A = led[1]; L1B = led[2]; L2A = led[3]+10; L2B = led[4]+10 # offset second LED\n",
    "    \n",
    "    # make title\n",
    "    plot_title = 'uid:' + str(info[0]) + ' / sess:' + str(info[1]) + ' / type:' + str(info[2]) + '/ t(ms):' + str(time)\n",
    "    \n",
    "    # plot LEDs at timepoint\n",
    "    fig, ax = plt.subplots(figsize = (6,6))\n",
    "    ax.spines[\"top\"].set_visible(False)    \n",
    "    ax.spines[\"bottom\"].set_visible(False)    \n",
    "    ax.spines[\"right\"].set_visible(False)    \n",
    "    ax.spines[\"left\"].set_visible(False)\n",
    "    ax.get_xaxis().tick_bottom()    \n",
    "    ax.get_yaxis().tick_left()  \n",
    "    \n",
    "    ax.hlines(y = minY, xmin = minX, xmax = maxX, linestyles='dashed') #minY\n",
    "    ax.hlines(y = maxY, xmin = minX, xmax = maxX, linestyles='dashed') # maxY\n",
    "    ax.vlines(x = minX, ymin = minY, ymax = maxY, linestyles='dashed') # minX\n",
    "    ax.vlines(x = maxX, ymin = minY, ymax = maxY, linestyles='dashed') # maxX\n",
    "    \n",
    "    ax.scatter(L1A, L1B, s=25, c='red')\n",
    "    ax.scatter(L2A, L2B, s=25, c='blue')\n",
    "    \n",
    "    font = {'fontname':'Helvetica'}\n",
    "    ax.set_xlabel(\"x\", **font, fontsize=14);\n",
    "    ax.set_ylabel(\"y\", **font, fontsize=14);\n",
    "    ax.set_title(plot_title, **font,fontsize=16);\n",
    "    ax.axis('square')\n",
    "    \n",
    "    # save figure\n",
    "    pngName = 'D:\\\\behaviorVideos\\\\24116\\\\' + str(time) + '.png'\n",
    "    fig.savefig(pngName)\n",
    "    \n",
    "    # close figure\n",
    "    plt.close()\n",
    "    \n",
    "    return"
   ]
  },
  {
   "cell_type": "code",
   "execution_count": 33,
   "metadata": {},
   "outputs": [],
   "source": [
    "def makeSpikePlot(matfile, sessNum, unitNum, timePoint):\n",
    "    \n",
    "    SpikeTrain = matfile[\"SpikeTrain\"][0]\n",
    "    spikesNow = SpikeTrain[sessNum][0][unitNum][0]\n",
    "    pos = matfile[\"pos\"][0]\n",
    "    time = pos[sessNum][:,0][timePoint];"
   ]
  },
  {
   "cell_type": "code",
   "execution_count": 8,
   "metadata": {},
   "outputs": [],
   "source": [
    "def genImage(matfile, sessNum, unitNum):\n",
    "    # generate & save .png\n",
    "    \n",
    "    SpikeTrain = matfile[\"SpikeTrain\"][0][sessNum][0]\n",
    "    window, spikesNow, info = getUnitData(matfile, sessNum, unitNum) \n",
    "    \n",
    "    for timePoint in range(0,len(spikesNow)): # fix this\n",
    "        time, led = getTimePt(matfile, sessNum, timePoint)\n",
    "        plotBehavior(led, window, info)"
   ]
  },
  {
   "cell_type": "code",
   "execution_count": null,
   "metadata": {},
   "outputs": [],
   "source": []
  },
  {
   "cell_type": "code",
   "execution_count": null,
   "metadata": {},
   "outputs": [],
   "source": [
    "def instFR(spikeTrain, Fs, sessNum):\n",
    "    # spikeTrain for a single session\n",
    "    # Fs: sampling frequency"
   ]
  },
  {
   "cell_type": "code",
   "execution_count": 83,
   "metadata": {},
   "outputs": [],
   "source": [
    "def getFs(pos, sessNum):\n",
    "    from scipy import stats\n",
    "    t = pos[sessNum][:,0] # grab time vector\n",
    "    Fs, cnt = stats.mode(np.diff(t))\n",
    "    return float(Fs)"
   ]
  },
  {
   "cell_type": "markdown",
   "metadata": {},
   "source": [
    "### Generate images:"
   ]
  },
  {
   "cell_type": "code",
   "execution_count": null,
   "metadata": {},
   "outputs": [],
   "source": [
    "genImage(matfile, 12, 4) # try session 13, cell 5"
   ]
  },
  {
   "cell_type": "code",
   "execution_count": 35,
   "metadata": {},
   "outputs": [
    {
     "data": {
      "image/png": "[encoded data removed]",
      "text/plain": [
       "<Figure size 432x288 with 2 Axes>"
      ]
     },
     "metadata": {
      "needs_background": "light"
     },
     "output_type": "display_data"
    }
   ],
   "source": [
    "# SCRATCH\n",
    "import matplotlib.pyplot as plt\n",
    "import numpy as np\n",
    "from scipy.ndimage.filters import gaussian_filter1d"
   ]
  },
  {
   "cell_type": "code",
   "execution_count": null,
   "metadata": {},
   "outputs": [],
   "source": [
    "def smooth1d(data, sigma):\n",
    "    # smooth data with a 1d gaussian kernel\n",
    "    # sigma = standard deviation of gaussian\n",
    "    import scipy.ndimage as img\n",
    "    \n",
    "    img.scipy.ndimage.gaussian_filter1d"
   ]
  },
  {
   "cell_type": "code",
   "execution_count": 46,
   "metadata": {},
   "outputs": [
    {
     "data": {
      "text/plain": [
       "[<matplotlib.lines.Line2D at 0x2360a5ac400>]"
      ]
     },
     "execution_count": 46,
     "metadata": {},
     "output_type": "execute_result"
    },
    {
     "data": {
      "image/png": "[encoded data removed]",
      "text/plain": [
       "<Figure size 432x288 with 1 Axes>"
      ]
     },
     "metadata": {
      "needs_background": "light"
     },
     "output_type": "display_data"
    }
   ],
   "source": [
    "# sigma = standard deviation of gaussian\n",
    "import scipy.ndimage as img\n",
    "\n",
    "test = img.gaussian_filter1d(np.transpose(spikesNow), 2)\n",
    "plt.plot(spikesNow)\n"
   ]
  },
  {
   "cell_type": "code",
   "execution_count": null,
   "metadata": {},
   "outputs": [],
   "source": [
    "sessNum = 12\n",
    "unitNum = 4\n",
    "timePoint = 10\n",
    "\n",
    "SpikeTrain = matfile[\"SpikeTrain\"][0]\n",
    "spikesNow = SpikeTrain[sessNum][0][unitNum][0]\n",
    "pos = matfile[\"pos\"][0]\n",
    "time = pos[sessNum][:,0][timePoint];\n",
    "\n",
    "\n",
    "smooth(spikesNow, 1)"
   ]
  }
 ],
 "metadata": {
  "kernelspec": {
   "display_name": "Python 3",
   "language": "python",
   "name": "python3"
  },
  "language_info": {
   "codemirror_mode": {
    "name": "ipython",
    "version": 3
   },
   "file_extension": ".py",
   "mimetype": "text/x-python",
   "name": "python",
   "nbconvert_exporter": "python",
   "pygments_lexer": "ipython3",
   "version": "3.7.3"
  }
 },
 "nbformat": 4,
 "nbformat_minor": 4
}
