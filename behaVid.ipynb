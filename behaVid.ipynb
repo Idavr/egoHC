{
 "cells": [
  {
   "cell_type": "code",
   "execution_count": null,
   "metadata": {},
   "outputs": [],
   "source": [
    "# Write behavioral videos\n",
    "\n",
    "# J. Carpenter, 2020."
   ]
  },
  {
   "cell_type": "code",
   "execution_count": 129,
   "metadata": {},
   "outputs": [],
   "source": [
    "# import libraries\n",
    "import scipy.io as sio\n",
    "import numpy as np\n",
    "import matplotlib.pyplot as plt"
   ]
  },
  {
   "cell_type": "code",
   "execution_count": 3,
   "metadata": {},
   "outputs": [
    {
     "name": "stderr",
     "output_type": "stream",
     "text": [
      "C:\\Users\\17145\\Anaconda3\\lib\\site-packages\\scipy\\io\\matlab\\mio.py:218: MatReadWarning: Duplicate variable name \"None\" in stream - replacing previous with new\n",
      "Consider mio5.varmats_from_mat to split file into single variable files\n",
      "  matfile_dict = MR.get_variables(variable_names)\n"
     ]
    }
   ],
   "source": [
    "# Load dataset\n",
    "fileLoc = \"D:\\\\Data\\\\Dataset\\\\24116.mat\"\n",
    "matfile = sio.loadmat(fileLoc) # load .mat file"
   ]
  },
  {
   "cell_type": "code",
   "execution_count": 289,
   "metadata": {},
   "outputs": [],
   "source": [
    "# define functions\n",
    "# convert to OOP\n",
    "\n",
    "def getUnitData(matfile, sessNum, unitNum):\n",
    "    \n",
    "    \"\"\"\n",
    "    The following data will be loaded (via scipy.io):\n",
    "    \n",
    "        'SpikeTrain':    Sx1 array, where S is the number of sessions for the animal. \n",
    "                         Each session (S) contains a Nx1 vector, where N is the number of \n",
    "                         neurons (units) recorded in a given session.\n",
    "                      \n",
    "        'pos':           Sx1 array containing information about time and the positions of 2 LEDs.\n",
    "        \n",
    "        'UniqueID':      Sx1 array, where each array contains an Nx1 vector. Each element is a \n",
    "                         string value, containing the unique cell ID for the given unit.\n",
    "        \n",
    "        'trialType':    Sx1 array, containing a string value of session type (FM or OF, for\n",
    "                        'Foster Maze' or 'Open Field', respectively. 'TS' might also be present,\n",
    "                         which stands for 'Training Session'.\n",
    "                         \n",
    "    Outputs:\n",
    "    \n",
    "        'time':         tx1 array, where t is the number of timestamps for the session.\n",
    "    \"\"\"\n",
    "    \n",
    "    # pull out relevant arrays\n",
    "    SpikeTrain = matfile[\"SpikeTrain\"][0]\n",
    "    pos = matfile[\"pos\"][0] # time & LEDs\n",
    "    UniqueID = matfile[\"UniqueID\"][0]\n",
    "    trialType = matfile[\"trialType\"][0]\n",
    "    \n",
    "    # parse position vector\n",
    "    time = pos[sessNum][:,0]\n",
    "    led1A = pos[sessNum][:,1]\n",
    "    led1B = pos[sessNum][:,2]\n",
    "    led2A = pos[sessNum][:,3]\n",
    "    led2B = pos[sessNum][:,4]\n",
    "    \n",
    "    # trial type, spike train, unique ID #\n",
    "    trialNow = trialType[sessNum][0]\n",
    "    spikesNow = SpikeTrain[sessNum][0][unitNum][0]\n",
    "    idNow = UniqueID[sessNum][0][unitNum][0][0]\n",
    "    \n",
    "    # get window maximums and minumums\n",
    "    minX = matfile[\"sessInfo\"][0][sessNum][0][\"window_min_x\"][0][0][0][0]\n",
    "    maxX = matfile[\"sessInfo\"][0][sessNum][0][\"window_max_x\"][0][0][0][0]\n",
    "    minY = matfile[\"sessInfo\"][0][sessNum][0][\"window_min_y\"][0][0][0][0]\n",
    "    maxY = matfile[\"sessInfo\"][0][sessNum][0][\"window_max_y\"][0][0][0][0]\n",
    "    \n",
    "    return\n",
    "\n",
    "######################################################################\n",
    "    \n",
    "    \n",
    "def plotBehavior(minX, minY, maxX, maxY, timeNow, led1Now, led2Now):\n",
    "    \n",
    "    \"\"\"\n",
    "    plots behavior for a single timepoint.\n",
    "    \"\"\"\n",
    "    \n",
    "    fig, ax = plt.subplots()\n",
    "    ax.hlines(y = minY, xmin = minX, xmax = maxX) #minY\n",
    "    ax.hlines(y = maxY, xmin = minX, xmax = maxX) # maxY\n",
    "    ax.vlines(x = minX, ymin = minY, ymax = maxY) # minX\n",
    "    ax.vlines(x = maxX, ymin = minY, ymax = maxY) # maxX\n",
    "    ax.plot(led1Now, led2Now) # plot animal position\n",
    "    ax.set_xlabel(\"x\");\n",
    "    ax.set_ylabel(\"y\");\n",
    "    ax.set_title(\"title\");\n",
    "    \n",
    "    plt.show()\n",
    "    return"
   ]
  },
  {
   "cell_type": "code",
   "execution_count": 290,
   "metadata": {},
   "outputs": [
    {
     "data": {
      "text/plain": [
       "111044"
      ]
     },
     "execution_count": 290,
     "metadata": {},
     "output_type": "execute_result"
    }
   ],
   "source": [
    "getUnitData(matfile, 1, 1)\n",
    "len(time)"
   ]
  },
  {
   "cell_type": "code",
   "execution_count": null,
   "metadata": {},
   "outputs": [],
   "source": [
    "# pull out data for current session > neuron\n",
    "\n",
    "for sessNum in range(1,len(pos)+1): # through sessions\n",
    "    for unitNum in range(1,len(SpikeTrain[sessNum][0])): #through units\n",
    "        getUnitData(matfile, sessNum, unitNum) \n",
    "        for t in range(1,len(time)+1): # through timestamps\n",
    "            plotBehavior(minX, minY, maxX, maxY, timeNow, led1Now, led2Now)"
   ]
  },
  {
   "cell_type": "code",
   "execution_count": 225,
   "metadata": {},
   "outputs": [],
   "source": [
    "# grab mock data\n",
    "sess = 10\n",
    "minX = float(matfile[\"sessInfo\"][0][sess][0][\"window_min_x\"][0][0][0][0])\n",
    "maxX = float(matfile[\"sessInfo\"][0][sess][0][\"window_max_x\"][0][0][0][0])\n",
    "minY = float(matfile[\"sessInfo\"][0][sess][0][\"window_min_y\"][0][0][0][0])\n",
    "maxY = float(matfile[\"sessInfo\"][0][sess][0][\"window_max_y\"][0][0][0][0])"
   ]
  },
  {
   "cell_type": "code",
   "execution_count": null,
   "metadata": {},
   "outputs": [],
   "source": []
  }
 ],
 "metadata": {
  "kernelspec": {
   "display_name": "Python 3",
   "language": "python",
   "name": "python3"
  },
  "language_info": {
   "codemirror_mode": {
    "name": "ipython",
    "version": 3
   },
   "file_extension": ".py",
   "mimetype": "text/x-python",
   "name": "python",
   "nbconvert_exporter": "python",
   "pygments_lexer": "ipython3",
   "version": "3.7.3"
  }
 },
 "nbformat": 4,
 "nbformat_minor": 4
}
