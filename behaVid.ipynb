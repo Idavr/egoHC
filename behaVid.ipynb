{
 "cells": [
  {
   "cell_type": "markdown",
   "metadata": {},
   "source": [
    "### Visualizing Behavior\n",
    "\n",
    "#### J. Carpenter 2020"
   ]
  },
  {
   "cell_type": "markdown",
   "metadata": {},
   "source": [
    "### Load data:"
   ]
  },
  {
   "cell_type": "code",
   "execution_count": 25,
   "metadata": {},
   "outputs": [],
   "source": [
    "# import libraries\n",
    "import scipy.io as sio\n",
    "import numpy as np\n",
    "import matplotlib.pyplot as plt\n",
    "import plotly.express as px\n",
    "import pandas as pd"
   ]
  },
  {
   "cell_type": "code",
   "execution_count": 26,
   "metadata": {},
   "outputs": [],
   "source": [
    "# Load dataset\n",
    "fileLoc = \"D:\\\\Data\\\\Dataset\\\\24116.mat\"\n",
    "matfile = sio.loadmat(fileLoc) # load .mat file"
   ]
  },
  {
   "cell_type": "markdown",
   "metadata": {},
   "source": [
    "### Define functions:"
   ]
  },
  {
   "cell_type": "code",
   "execution_count": 27,
   "metadata": {},
   "outputs": [],
   "source": [
    "def instFR(matfile, sigma, sessNum, unitNum):\n",
    "    # spikeTrain for a single session\n",
    "    # Fs: sampling frequency\n",
    "    import scipy.ndimage\n",
    "    from scipy import stats\n",
    "\n",
    "    SpikeTrain = matfile[\"SpikeTrain\"][0] \n",
    "    spikesNow = SpikeTrain[sessNum][0][unitNum][0] # grab spikes for session \n",
    "    \n",
    "    # get sampling frequency\n",
    "    pos = matfile[\"pos\"][0]\n",
    "    t = pos[sessNum][:,0] # grab time vector\n",
    "    Fs, cnt = stats.mode(np.diff(t)) # calc mode of sampling frequencies\n",
    "    \n",
    "    # compute instantaneous FR\n",
    "    firingRate = spikesNow/Fs # in Hz (spikes/second)\n",
    "    \n",
    "    # smooth rate with a Gaussian kernel (100 or 200 ms)\n",
    "    smoothRate = scipy.ndimage.gaussian_filter1d(firingRate, sigma)\n",
    "    \n",
    "    return smoothRate"
   ]
  },
  {
   "cell_type": "code",
   "execution_count": 28,
   "metadata": {},
   "outputs": [],
   "source": [
    "def makeDF(matfile, sessNum, unitNum):\n",
    "    # make dataframe to pass through plotly for one session\n",
    "    # this may be too computationally heavy\n",
    "    \n",
    "    pos = matfile[\"pos\"][0] # time & LEDs\n",
    "    time = pos[sessNum][:,0]\n",
    "    led1A = pos[sessNum][:,1]; led1B = pos[sessNum][:,2];\n",
    "    led2A = pos[sessNum][:,3]; led2B = pos[sessNum][:,4];\n",
    "      \n",
    "    SpikeTrain = matfile[\"SpikeTrain\"][0][sessNum][0]    \n",
    "    if np.size(SpikeTrain) > 0: \n",
    "        SpikeTrainUnit = SpikeTrain[unitNum][0]\n",
    "        d = {'time': time, 'led1A': led1A , 'led1B': led1B, 'led2A': led2A, 'led2B': led2B, 'spikes:': SpikeTrainUnit}\n",
    "    else:\n",
    "        d = {'time': time, 'led1A': led1A , 'led1B': led1B, 'led2A': led2A, 'led2B': led2B}\n",
    "    df = pd.DataFrame(data=d)\n",
    "    \n",
    "    return df"
   ]
  },
  {
   "cell_type": "code",
   "execution_count": 29,
   "metadata": {},
   "outputs": [],
   "source": [
    "# def makeAnimation(df):\n",
    "#     px.scatter(df, x=\"led1A\", y=\"led1B\", animation_frame=\"time\")"
   ]
  },
  {
   "cell_type": "code",
   "execution_count": 30,
   "metadata": {},
   "outputs": [],
   "source": [
    "def getUnitData(matfile, sessNum, unitNum):\n",
    "    \n",
    "    \"\"\"\n",
    "    The following data will be loaded (via scipy.io):\n",
    "    \n",
    "        'SpikeTrain':    Sx1 array, where S is the number of sessions for the animal. \n",
    "                         Each session (S) contains a Nx1 vector, where N is the number of \n",
    "                         neurons (units) recorded in a given session.\n",
    "                      \n",
    "        'pos':           Sx1 array containing information about time and the positions of 2 LEDs.\n",
    "        \n",
    "        'UniqueID':      Sx1 array, where each array contains an Nx1 vector. Each element is a \n",
    "                         string value, containing the unique cell ID for the given unit.\n",
    "        \n",
    "        'trialType':    Sx1 array, containing a string value of session type (FM or OF, for\n",
    "                        'Foster Maze' or 'Open Field', respectively. 'TS' might also be present,\n",
    "                         which stands for 'Training Session'.\n",
    "                         \n",
    "    Outputs:\n",
    "    \n",
    "        'time':         tx1 array, where t is the number of timestamps for the session.\n",
    "    \"\"\"\n",
    "    \n",
    "        \n",
    "    # pull out relevant arrays\n",
    "    SpikeTrain = matfile[\"SpikeTrain\"][0]\n",
    "    pos = matfile[\"pos\"][0] # time & LEDs\n",
    "    UniqueID = matfile[\"UniqueID\"][0]\n",
    "    trialType = matfile[\"trialType\"][0]\n",
    "    \n",
    "    \n",
    "    # trial type, spike train, unique ID #\n",
    "    spikesNow = SpikeTrain[sessNum][0][unitNum][0]\n",
    "    trialNow = str(trialType[sessNum][0])\n",
    "    idNow = str(UniqueID[sessNum][0][unitNum][0][0])\n",
    "    info = [idNow, sessNum, trialNow]\n",
    "    \n",
    "    # get window maximums and minumums\n",
    "    minX = float(matfile[\"sessInfo\"][0][sessNum][0][\"window_min_x\"][0][0][0][0])\n",
    "    maxX = float(matfile[\"sessInfo\"][0][sessNum][0][\"window_max_x\"][0][0][0][0])\n",
    "    minY = float(matfile[\"sessInfo\"][0][sessNum][0][\"window_min_y\"][0][0][0][0])\n",
    "    maxY = float(matfile[\"sessInfo\"][0][sessNum][0][\"window_max_y\"][0][0][0][0])\n",
    "    window = np.array([minX, maxX, minY, maxY])\n",
    "    \n",
    "    return window, spikesNow, info"
   ]
  },
  {
   "cell_type": "code",
   "execution_count": 31,
   "metadata": {},
   "outputs": [],
   "source": [
    "def getTimePt(matfile, sessNum, timePoint):\n",
    "    \n",
    "    # parse position vector\n",
    "    pos = matfile[\"pos\"][0]\n",
    "    time = pos[sessNum][:,0][timePoint];\n",
    "    led1A = pos[sessNum][:,1][timePoint]; led1B = pos[sessNum][:,2][timePoint];\n",
    "    led2A = pos[sessNum][:,3][timePoint]; led2B = pos[sessNum][:,4][timePoint];\n",
    "    led = np.array([time, led1A, led1B, led2A, led2B])\n",
    "    \n",
    "    return time, led"
   ]
  },
  {
   "cell_type": "code",
   "execution_count": 32,
   "metadata": {},
   "outputs": [],
   "source": [
    "def plotBehavior(led, window, info):\n",
    "    \"\"\"\n",
    "    plots behavior for a single timepoint.\n",
    "    \"\"\"\n",
    "    \n",
    "    # parse window vector\n",
    "    minX = window[0]; maxX = window[1]; minY = window[2]; maxY = window[3]\n",
    "    \n",
    "    # parse led vector\n",
    "    time = led[0]\n",
    "    L1A = led[1]; L1B = led[2]; L2A = led[3]+10; L2B = led[4]+10 # offset second LED\n",
    "    \n",
    "    # make title\n",
    "    plot_title = 'uid:' + str(info[0]) + ' / sess:' + str(info[1]) + ' / type:' + str(info[2]) + '/ t(ms):' + str(time)\n",
    "    \n",
    "    # plot LEDs at timepoint\n",
    "    fig, ax = plt.subplots(figsize = (6,6))\n",
    "    ax.spines[\"top\"].set_visible(False)    \n",
    "    ax.spines[\"bottom\"].set_visible(False)    \n",
    "    ax.spines[\"right\"].set_visible(False)    \n",
    "    ax.spines[\"left\"].set_visible(False)\n",
    "    ax.get_xaxis().tick_bottom()    \n",
    "    ax.get_yaxis().tick_left()  \n",
    "    \n",
    "    ax.hlines(y = minY, xmin = minX, xmax = maxX, linestyles='dashed') #minY\n",
    "    ax.hlines(y = maxY, xmin = minX, xmax = maxX, linestyles='dashed') # maxY\n",
    "    ax.vlines(x = minX, ymin = minY, ymax = maxY, linestyles='dashed') # minX\n",
    "    ax.vlines(x = maxX, ymin = minY, ymax = maxY, linestyles='dashed') # maxX\n",
    "    \n",
    "    ax.scatter(L1A, L1B, s=25, c='red')\n",
    "    ax.scatter(L2A, L2B, s=25, c='blue')\n",
    "    \n",
    "    font = {'fontname':'Helvetica'}\n",
    "    ax.set_xlabel(\"x\", **font, fontsize=14);\n",
    "    ax.set_ylabel(\"y\", **font, fontsize=14);\n",
    "    ax.set_title(plot_title, **font,fontsize=16);\n",
    "    ax.axis('square')\n",
    "    \n",
    "    # save figure\n",
    "    pngName = 'D:\\\\behaviorVideos\\\\24116\\\\' + str(time) + '.png'\n",
    "    fig.savefig(pngName)\n",
    "    \n",
    "    # close figure\n",
    "    plt.close()\n",
    "    \n",
    "    return"
   ]
  },
  {
   "cell_type": "code",
   "execution_count": 33,
   "metadata": {},
   "outputs": [],
   "source": [
    "def makeSpikePlot(matfile, sessNum, unitNum, timePoint):\n",
    "    \n",
    "    SpikeTrain = matfile[\"SpikeTrain\"][0]\n",
    "    spikesNow = SpikeTrain[sessNum][0][unitNum][0]\n",
    "    pos = matfile[\"pos\"][0]\n",
    "    time = pos[sessNum][:,0][timePoint];"
   ]
  },
  {
   "cell_type": "code",
   "execution_count": 8,
   "metadata": {},
   "outputs": [],
   "source": [
    "def genImage(matfile, sessNum, unitNum):\n",
    "    # generate & save .png\n",
    "    \n",
    "    SpikeTrain = matfile[\"SpikeTrain\"][0][sessNum][0]\n",
    "    window, spikesNow, info = getUnitData(matfile, sessNum, unitNum) \n",
    "    \n",
    "    for timePoint in range(0,len(spikesNow)): # fix this\n",
    "        time, led = getTimePt(matfile, sessNum, timePoint)\n",
    "        plotBehavior(led, window, info)"
   ]
  },
  {
   "cell_type": "code",
   "execution_count": 192,
   "metadata": {},
   "outputs": [
    {
     "data": {
      "text/plain": [
       "(array([1.10707e+05, 2.28000e+02, 7.30000e+01, 6.00000e+00, 7.00000e+00,\n",
       "        8.00000e+00, 3.00000e+00, 2.00000e+00, 5.00000e+00, 5.00000e+00]),\n",
       " array([ 0.       ,  4.5751715,  9.150343 , 13.7255145, 18.300686 ,\n",
       "        22.8758575, 27.451029 , 32.0262005, 36.601372 , 41.1765435,\n",
       "        45.751715 ]),\n",
       " <a list of 10 Patch objects>)"
      ]
     },
     "execution_count": 192,
     "metadata": {},
     "output_type": "execute_result"
    },
    {
     "data": {
      "image/png": "[encoded data removed]",
      "text/plain": [
       "<Figure size 432x288 with 1 Axes>"
      ]
     },
     "metadata": {
      "needs_background": "light"
     },
     "output_type": "display_data"
    }
   ],
   "source": [
    "# plot that shit\n",
    "SR = instFR(matfile, 2, 25, 1)\n",
    "fig, ax = plt.subplots()\n",
    "# ax.plot(t, SR);\n",
    "ax.hist(SR)"
   ]
  },
  {
   "cell_type": "markdown",
   "metadata": {},
   "source": [
    "### Generate images:"
   ]
  },
  {
   "cell_type": "code",
   "execution_count": null,
   "metadata": {},
   "outputs": [],
   "source": [
    "genImage(matfile, 12, 4) # try session 13, cell 5"
   ]
  }
 ],
 "metadata": {
  "kernelspec": {
   "display_name": "Python 3",
   "language": "python",
   "name": "python3"
  },
  "language_info": {
   "codemirror_mode": {
    "name": "ipython",
    "version": 3
   },
   "file_extension": ".py",
   "mimetype": "text/x-python",
   "name": "python",
   "nbconvert_exporter": "python",
   "pygments_lexer": "ipython3",
   "version": "3.7.3"
  }
 },
 "nbformat": 4,
 "nbformat_minor": 4
}
