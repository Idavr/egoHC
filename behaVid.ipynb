{
 "cells": [
  {
   "cell_type": "markdown",
   "metadata": {},
   "source": [
    "### Visualizing Behavior\n",
    "\n",
    "#### J. Carpenter 2020"
   ]
  },
  {
   "cell_type": "code",
   "execution_count": 4,
   "metadata": {},
   "outputs": [],
   "source": [
    "# import libraries\n",
    "import scipy.io as sio\n",
    "import numpy as np\n",
    "import matplotlib.pyplot as plt\n",
    "import plotly.express as px\n",
    "import pandas as pd"
   ]
  },
  {
   "cell_type": "code",
   "execution_count": 7,
   "metadata": {},
   "outputs": [
    {
     "name": "stderr",
     "output_type": "stream",
     "text": [
      "C:\\Users\\17145\\Anaconda3\\lib\\site-packages\\scipy\\io\\matlab\\mio.py:224: MatReadWarning: Duplicate variable name \"None\" in stream - replacing previous with new\n",
      "Consider mio5.varmats_from_mat to split file into single variable files\n",
      "  matfile_dict = MR.get_variables(variable_names)\n"
     ]
    }
   ],
   "source": [
    "# Load dataset\n",
    "fileLoc = \"D:\\\\Data\\\\Dataset\\\\24116.mat\"\n",
    "matfile = sio.loadmat(fileLoc) # load .mat file"
   ]
  },
  {
   "cell_type": "code",
   "execution_count": 40,
   "metadata": {},
   "outputs": [
    {
     "data": {
      "text/plain": [
       "0"
      ]
     },
     "execution_count": 40,
     "metadata": {},
     "output_type": "execute_result"
    }
   ],
   "source": [
    "SpikeTrain = matfile[\"SpikeTrain\"][0][11]\n",
    "np.size(SpikeTrain)"
   ]
  },
  {
   "cell_type": "markdown",
   "metadata": {},
   "source": [
    "### Define functions:"
   ]
  },
  {
   "cell_type": "code",
   "execution_count": 79,
   "metadata": {},
   "outputs": [],
   "source": [
    "def makeDF(matfile, sessNum, unitNum):\n",
    "    # make dataframe to pass through plotly for one session\n",
    "    \n",
    "    pos = matfile[\"pos\"][0] # time & LEDs\n",
    "    time = pos[sessNum][:,0]\n",
    "    led1A = pos[sessNum][:,1]; led1B = pos[sessNum][:,2];\n",
    "    led2A = pos[sessNum][:,3]; led2B = pos[sessNum][:,4];\n",
    "      \n",
    "    SpikeTrain = matfile[\"SpikeTrain\"][0][sessNum][0]    \n",
    "    if np.size(SpikeTrain) > 0: \n",
    "        SpikeTrainUnit = SpikeTrain[unitNum][0]\n",
    "        d = {'time': time, 'led1A': led1A , 'led1B': led1B, 'led2A': led2A, 'led2B': led2B, 'spikes:': SpikeTrainUnit}\n",
    "    else:\n",
    "        d = {'time': time, 'led1A': led1A , 'led1B': led1B, 'led2A': led2A, 'led2B': led2B}\n",
    "    df = pd.DataFrame(data=d)\n",
    "    \n",
    "    return df"
   ]
  },
  {
   "cell_type": "code",
   "execution_count": 81,
   "metadata": {},
   "outputs": [],
   "source": [
    "def makeAnimation(df):\n",
    "    px.scatter(df, x=\"led1A\", y=\"led1B\", animation_frame=\"time\")"
   ]
  },
  {
   "cell_type": "code",
   "execution_count": null,
   "metadata": {},
   "outputs": [],
   "source": [
    "makeAnimation(df)"
   ]
  },
  {
   "cell_type": "code",
   "execution_count": 447,
   "metadata": {},
   "outputs": [],
   "source": [
    "def getUnitData(matfile, sessNum, unitNum):\n",
    "    \n",
    "    \"\"\"\n",
    "    The following data will be loaded (via scipy.io):\n",
    "    \n",
    "        'SpikeTrain':    Sx1 array, where S is the number of sessions for the animal. \n",
    "                         Each session (S) contains a Nx1 vector, where N is the number of \n",
    "                         neurons (units) recorded in a given session.\n",
    "                      \n",
    "        'pos':           Sx1 array containing information about time and the positions of 2 LEDs.\n",
    "        \n",
    "        'UniqueID':      Sx1 array, where each array contains an Nx1 vector. Each element is a \n",
    "                         string value, containing the unique cell ID for the given unit.\n",
    "        \n",
    "        'trialType':    Sx1 array, containing a string value of session type (FM or OF, for\n",
    "                        'Foster Maze' or 'Open Field', respectively. 'TS' might also be present,\n",
    "                         which stands for 'Training Session'.\n",
    "                         \n",
    "    Outputs:\n",
    "    \n",
    "        'time':         tx1 array, where t is the number of timestamps for the session.\n",
    "    \"\"\"\n",
    "    \n",
    "        \n",
    "    # pull out relevant arrays\n",
    "    SpikeTrain = matfile[\"SpikeTrain\"][0]\n",
    "    pos = matfile[\"pos\"][0] # time & LEDs\n",
    "    UniqueID = matfile[\"UniqueID\"][0]\n",
    "    trialType = matfile[\"trialType\"][0]\n",
    "    \n",
    "    \n",
    "    # trial type, spike train, unique ID #\n",
    "    spikesNow = SpikeTrain[sessNum][0][unitNum][0]\n",
    "    trialNow = str(trialType[sessNum][0])\n",
    "    idNow = str(UniqueID[sessNum][0][unitNum][0][0])\n",
    "    info = [idNow, sessNum, trialNow]\n",
    "    \n",
    "    # get window maximums and minumums\n",
    "    minX = float(matfile[\"sessInfo\"][0][sessNum][0][\"window_min_x\"][0][0][0][0])\n",
    "    maxX = float(matfile[\"sessInfo\"][0][sessNum][0][\"window_max_x\"][0][0][0][0])\n",
    "    minY = float(matfile[\"sessInfo\"][0][sessNum][0][\"window_min_y\"][0][0][0][0])\n",
    "    maxY = float(matfile[\"sessInfo\"][0][sessNum][0][\"window_max_y\"][0][0][0][0])\n",
    "    window = np.array([minX, maxX, minY, maxY])\n",
    "    \n",
    "    return window, spikesNow, info"
   ]
  },
  {
   "cell_type": "code",
   "execution_count": null,
   "metadata": {},
   "outputs": [],
   "source": [
    "def getTimePt(matfile, sessNum, timePoint):\n",
    "    \n",
    "    # parse position vector\n",
    "    pos = matfile[\"pos\"][0]\n",
    "    time = pos[sessNum][:,0][timePoint];\n",
    "    led1A = pos[sessNum][:,1][timePoint]; led1B = pos[sessNum][:,2][timePoint];\n",
    "    led2A = pos[sessNum][:,3][timePoint]; led2B = pos[sessNum][:,4][timePoint];\n",
    "    led = np.array([time, led1A, led1B, led2A, led2B])\n",
    "    \n",
    "    return time, led"
   ]
  },
  {
   "cell_type": "code",
   "execution_count": null,
   "metadata": {},
   "outputs": [],
   "source": [
    "def plotBehavior(led, window, info):\n",
    "    \"\"\"\n",
    "    plots behavior for a single timepoint.\n",
    "    \"\"\"\n",
    "    \n",
    "    # parse window vector\n",
    "    minX = window[0]; maxX = window[1]; minY = window[2]; maxY = window[3]\n",
    "    \n",
    "    # parse led vector\n",
    "    time = led[0]\n",
    "    L1A = led[1]; L1B = led[2]; L2A = led[3]; L2B = led[4]\n",
    "    \n",
    "    # make title\n",
    "    plot_title = 'uid:' + str(info[0]) + ' / sess:' + str(info[1]) + ' / type:' + str(info[2]) + '/ time:' + str(time)\n",
    "    \n",
    "    # plot LEDs at timepoint\n",
    "    fig, ax = plt.subplots()\n",
    "    \n",
    "    ax.hlines(y = minY, xmin = minX, xmax = maxX) #minY\n",
    "    ax.hlines(y = maxY, xmin = minX, xmax = maxX) # maxY\n",
    "    ax.vlines(x = minX, ymin = minY, ymax = maxY) # minX\n",
    "    ax.vlines(x = maxX, ymin = minY, ymax = maxY) # maxX\n",
    "    \n",
    "    ax.scatter(L1A, L1B, s=5, c='red')\n",
    "    ax.scatter(L2A, L2B, s=5, c='blue')\n",
    "    \n",
    "    ax.set_xlabel(\"x\");\n",
    "    ax.set_ylabel(\"y\");\n",
    "    ax.set_title(plot_title);\n",
    "    \n",
    "    plt.show()\n",
    "    return"
   ]
  },
  {
   "cell_type": "markdown",
   "metadata": {},
   "source": [
    "### Make animation:"
   ]
  },
  {
   "cell_type": "code",
   "execution_count": null,
   "metadata": {},
   "outputs": [],
   "source": [
    "# pull out data for current session > neuron\n",
    "\n",
    "# for sessNum in range(0,len(pos)-1): # through sessions\n",
    "for sessNum in range(0,1):\n",
    "    SpikeTrain = matfile[\"SpikeTrain\"][0][sessNum][0]\n",
    "    for unitNum in range(0,len(SpikeTrain[sessNum][0])): #through units\n",
    "        window, spikesNow, info = getUnitData(matfile, sessNum, unitNum) \n",
    "#         for t in range(0,len(time)-1): # through timestamps\n",
    "        for timePoint in range(0,10): \n",
    "            time, led = getTimePt(matfile, sessNum, timePoint)\n",
    "            plotBehavior(led, window, info)"
   ]
  },
  {
   "cell_type": "code",
   "execution_count": null,
   "metadata": {},
   "outputs": [],
   "source": []
  }
 ],
 "metadata": {
  "kernelspec": {
   "display_name": "Python 3",
   "language": "python",
   "name": "python3"
  },
  "language_info": {
   "codemirror_mode": {
    "name": "ipython",
    "version": 3
   },
   "file_extension": ".py",
   "mimetype": "text/x-python",
   "name": "python",
   "nbconvert_exporter": "python",
   "pygments_lexer": "ipython3",
   "version": "3.7.3"
  }
 },
 "nbformat": 4,
 "nbformat_minor": 4
}
